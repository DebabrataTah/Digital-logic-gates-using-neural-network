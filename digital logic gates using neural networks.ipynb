{
 "cells": [
  {
   "cell_type": "code",
   "execution_count": 1,
   "metadata": {},
   "outputs": [],
   "source": [
    "import random\n",
    "import matplotlib\n",
    "import matplotlib.pyplot as plt"
   ]
  },
  {
   "cell_type": "code",
   "execution_count": 2,
   "metadata": {},
   "outputs": [],
   "source": [
    "matplotlib.use('tkagg')\n",
    "matplotlib.rc('figure', figsize=(10, 10))"
   ]
  },
  {
   "cell_type": "code",
   "execution_count": 3,
   "metadata": {},
   "outputs": [],
   "source": [
    "def plot_nn(train, epoch, w1, w2, b, wsum, expected, predicted):\n",
    "    \n",
    "    plt.show(block = False)\n",
    "    plt.cla()\n",
    "\n",
    "    x1, y1 = 0.12, 0.7\n",
    "    x2, y2 = 0.12, 0.3\n",
    "    x3, y3 = 0.5, 0.5\n",
    "    x4, y4 = 0.8, 0.5\n",
    "\n",
    "    circle1 = plt.Circle((x1, y1), 0.1)\n",
    "    circle2 = plt.Circle((x2, y2), 0.1)\n",
    "    circle3 = plt.Circle((x3, y3), 0.11, color='skyblue')\n",
    "    circle4 = plt.Circle((x4, y4), 0.11)\n",
    "\n",
    "    ax = plt.gcf().gca()\n",
    "\n",
    "    ax.add_patch(circle1)\n",
    "    ax.add_patch(circle2)\n",
    "    ax.add_patch(circle3)\n",
    "    ax.add_patch(circle4)\n",
    "\n",
    "    fs1 = 20\n",
    "    \n",
    "    plt.axis('off')\n",
    "    plt.annotate('x1 = ' +  str(train[0]) + '\\nw1 = ' + str(w1), xy=(0.4, 0.5), xytext=(x1, y1), fontsize=fs1, arrowprops=dict(arrowstyle='->'), va='center', ha='center')\n",
    "    plt.annotate('x2 = ' +  str(train[1]) + '\\nw2 = ' + str(w2), xy=(0.4, 0.5), xytext=(x2, y2), fontsize=fs1, arrowprops=dict(arrowstyle='->'), va='center', ha='center')\n",
    "    plt.annotate('Bias = ' + str(round(b, 2)), xy=(0.5, 0.6), xytext=(0.5, 0.8), fontsize=fs1, arrowprops=dict(arrowstyle='->'), va='center', ha='center')\n",
    "    plt.annotate('Sum = ' + str(round(wsum, 2)), xy=(0.7, 0.5), xytext=(x3, y3), fontsize=fs1, arrowprops=dict(arrowstyle='->'), va='center', ha='center')\n",
    "    plt.annotate('Output = ' + str(predicted), xy=(x4, y4), fontsize=fs1, va='center', ha='center')\n",
    "    \n",
    "    plt.text(0, 1.05, 'Epoch: ' + str(epoch), fontsize = 23, ha='left', va='center', transform = ax.transAxes)\n",
    "    plt.text(0, 0.95, 'Input = ' + str(train), fontsize = 19, ha='left', va='center', transform = ax.transAxes)\n",
    "    plt.text(0, 0.9, 'Output: Expected = ' + str(expected) + ', Predicted = ' + str(predicted), fontsize = 19, ha='left', va='center', transform = ax.transAxes)\n",
    "    \n",
    "    if expected == predicted:\n",
    "        plt.text(0.64, 0.32, '(Correct Prediction)', fontsize = 19, ha='left', va='center', transform = ax.transAxes)\n",
    "    else:\n",
    "        plt.text(0.64, 0.32, '(Wrong Prediction)', fontsize = 19, ha='left', va='center', transform = ax.transAxes)\n",
    "\n",
    "    plt.draw()\n",
    "    plt.pause(0.001)"
   ]
  },
  {
   "cell_type": "code",
   "execution_count": 4,
   "metadata": {},
   "outputs": [],
   "source": [
    "class Net:\n",
    "    def __init__(self):        \n",
    "        self.w1 = 0\n",
    "        self.w2 = 0\n",
    "        self.b = 0\n",
    "        \n",
    "    def forward(self, train):    \n",
    "        wsum = self.w1 * train[0] + self.w2 * train[1] + self.b\n",
    "        pred = 1 if wsum >= 0 else 0\n",
    "        return (pred, wsum)"
   ]
  },
  {
   "cell_type": "code",
   "execution_count": 5,
   "metadata": {},
   "outputs": [],
   "source": [
    "gates = {'and':  [[(0, 0), (0, 1), (1, 0), (1, 1)], [0, 0, 0, 1]],\n",
    "         'or':   [[(0, 0), (0, 1), (1, 0), (1, 1)], [0, 1, 1, 1]],\n",
    "         'nand': [[(0, 0), (0, 1), (1, 0), (1, 1)], [1, 1, 1, 0]],\n",
    "         'nor':  [[(0, 0), (0, 1), (1, 0), (1, 1)], [1, 0, 0, 0]]}"
   ]
  },
  {
   "cell_type": "code",
   "execution_count": 6,
   "metadata": {},
   "outputs": [],
   "source": [
    "def nn(data):\n",
    "    x, y = data[0], data[1]\n",
    "\n",
    "    net = Net()\n",
    "    learning_rate = 0.1\n",
    "\n",
    "    epoch = 40\n",
    "    for i in range(epoch):\n",
    "        index = random.randint(0, 3)\n",
    "        train = x[index]\n",
    "        test = y[index]\n",
    "\n",
    "        predicted, wsum = net.forward(train)  \n",
    "        expected = test\n",
    "\n",
    "        plot_nn(train, i, net.w1, net.w2, net.b, wsum, expected, predicted)\n",
    "\n",
    "        net.w1 += learning_rate * (expected - predicted) * train[0]\n",
    "        net.w2 += learning_rate * (expected - predicted) * train[1]\n",
    "        net.b += learning_rate * (expected - predicted)\n",
    "     \n",
    "    print('model trained!')\n",
    "    print('testing-->')\n",
    "    for i, j in zip(x, y):\n",
    "        predicted = net.forward(i)[0]\n",
    "        print(i, ' = ', predicted, end = ' ')\n",
    "        print('(correct)') if predicted == j else print('(wrong)')"
   ]
  },
  {
   "cell_type": "code",
   "execution_count": 10,
   "metadata": {},
   "outputs": [
    {
     "name": "stdout",
     "output_type": "stream",
     "text": [
      "model trained!\n",
      "testing-->\n",
      "(0, 0)  =  0 (correct)\n",
      "(0, 1)  =  0 (correct)\n",
      "(1, 0)  =  0 (correct)\n",
      "(1, 1)  =  1 (correct)\n"
     ]
    }
   ],
   "source": [
    "nn(gates['and'])\n"
   ]
  },
  {
   "cell_type": "code",
   "execution_count": null,
   "metadata": {},
   "outputs": [],
   "source": []
  }
 ],
 "metadata": {
  "kernelspec": {
   "display_name": "Python 3",
   "language": "python",
   "name": "python3"
  },
  "language_info": {
   "codemirror_mode": {
    "name": "ipython",
    "version": 3
   },
   "file_extension": ".py",
   "mimetype": "text/x-python",
   "name": "python",
   "nbconvert_exporter": "python",
   "pygments_lexer": "ipython3",
   "version": "3.7.3"
  }
 },
 "nbformat": 4,
 "nbformat_minor": 2
}
